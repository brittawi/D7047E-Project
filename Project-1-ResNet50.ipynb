{
 "cells": [
  {
   "cell_type": "code",
   "metadata": {},
   "source": [
    "import torch\n",
    "import torch.nn as nn\n",
    "import matplotlib.pyplot as plt\n",
    "from torchvision.utils import make_grid \n",
    "from torchvision.models import resnet50, ResNet50_Weights\n",
    "import lightning as L\n",
    "from lightning.pytorch.callbacks.early_stopping import EarlyStopping\n",
    "from lightning.pytorch.loggers import TensorBoardLogger\n",
    "import numpy as np\n",
    "\n",
    "import utils\n",
    "from models import Classificator"
   ],
   "outputs": [],
   "execution_count": null
  },
  {
   "cell_type": "markdown",
   "metadata": {},
   "source": [
    "## Hyperparameters"
   ]
  },
  {
   "cell_type": "code",
   "metadata": {},
   "source": [
    "#Dataloader params\n",
    "BATCH_SIZE = 32\n",
    "NUM_WORKERS = 7 # 7 because that what it suggested in a warning message\n",
    "PERSISTENT_WORKERS = True # Suggested to do this in a warning message for faster init\n",
    "USE_AUGMENT = False  # mutual exclusive with CUSTOM_TRAIN_VAL_SPLIT\n",
    "CUSTOM_TRAIN_VAL_SPLIT = True  # mutual exclusive with USE_AUGMENT\n",
    "DATA_DIR = \"chest_xray\" # Change this to chest_xray folder\n",
    "USE_SAMPLER = False\n",
    "SHOW_ANALYTICS = False\n",
    "\n",
    "# Lightning moduls params\n",
    "LEARNING_RATE = 1e-3\n",
    "EPOCHS = 100\n",
    "CLASS_LABELS = [\"Normal\", \"Pneumonia\"]\n",
    "NUM_CLASSES = 2\n",
    "\n",
    "config = {\n",
    "    \"lr\": LEARNING_RATE,\n",
    "    \"loss\": \"CrossEntropyLoss\"\n",
    "}\n"
   ],
   "outputs": [],
   "execution_count": null
  },
  {
   "cell_type": "markdown",
   "metadata": {},
   "source": [
    "## Load data"
   ]
  },
  {
   "cell_type": "code",
   "metadata": {},
   "source": [
    "train_loader, val_loader, test_loader = utils.loadData(\n",
    "    batchSize=BATCH_SIZE,\n",
    "    numWorkers=NUM_WORKERS,\n",
    "    dataDir=DATA_DIR,\n",
    "    customSplit=CUSTOM_TRAIN_VAL_SPLIT,\n",
    "    useAugment=USE_AUGMENT,  # Warn: Modify definition, used elsewhere\n",
    "    useSampler=USE_SAMPLER,\n",
    "    showAnalytics=SHOW_ANALYTICS,\n",
    ")\n"
   ],
   "outputs": [],
   "execution_count": null
  },
  {
   "cell_type": "markdown",
   "metadata": {},
   "source": [
    "## Plot some example images"
   ]
  },
  {
   "cell_type": "code",
   "metadata": {},
   "source": [
    "examples = next(iter(train_loader))\n",
    "images, labels = examples\n",
    "grid = make_grid(images[:9], nrow=3)\n",
    "plt.imshow(grid.permute(1, 2, 0))\n",
    "print(labels[:9].reshape(3,3))"
   ],
   "outputs": [],
   "execution_count": null
  },
  {
   "cell_type": "markdown",
   "metadata": {},
   "source": [
    "## Load ResNet50 model"
   ]
  },
  {
   "cell_type": "code",
   "metadata": {},
   "source": [
    "#Load best resNet50 weights\n",
    "model = resnet50(weights=ResNet50_Weights.DEFAULT)\n",
    "\n",
    "#Change output layer to 2 classes\n",
    "model.fc = torch.nn.Linear(\n",
    "    in_features=2048,\n",
    "    out_features=NUM_CLASSES,\n",
    "    bias=True\n",
    ")\n",
    "\n",
    "#Freeze all layers except fc\n",
    "for name, param in model.named_parameters():\n",
    "    if \"fc.weight\" in name or \"fc.bias\" in name:\n",
    "        param.requires_grad = True\n",
    "    else:\n",
    "        param.requires_grad = False"
   ],
   "outputs": [],
   "execution_count": null
  },
  {
   "cell_type": "markdown",
   "metadata": {},
   "source": [
    "## Run training and validation loops"
   ]
  },
  {
   "cell_type": "code",
   "metadata": {},
   "source": [
    "classifier = Classificator(model, CLASS_LABELS, config, NUM_CLASSES)\n",
    "early_stop_callback = EarlyStopping(monitor=\"Validation loss\", min_delta=1e-6, patience=10)\n",
    "checkpoint = L.pytorch.callbacks.ModelCheckpoint(dirpath=\"pneumonia_model/ResNet/\")\n",
    "callbacks = [early_stop_callback, checkpoint]\n",
    "logger = TensorBoardLogger(\"lightning_logs\",\n",
    "                           name=f\"resnet/{'augment' if USE_AUGMENT else 'original'}\",\n",
    "                           )\n",
    "\n",
    "trainer = L.Trainer(\n",
    "    accelerator=\"auto\",\n",
    "    devices=1,\n",
    "    logger=logger,\n",
    "    max_epochs=EPOCHS,\n",
    "    reload_dataloaders_every_n_epochs=3,\n",
    "    callbacks=callbacks\n",
    ")\n",
    "trainer.fit(\n",
    "    model = classifier,\n",
    "    train_dataloaders = train_loader, \n",
    "    val_dataloaders = val_loader\n",
    ")"
   ],
   "outputs": [],
   "execution_count": null
  },
  {
   "cell_type": "markdown",
   "metadata": {},
   "source": [
    "## Test model\n",
    "Only implemented and tested but should not use until final model is decided"
   ]
  },
  {
   "cell_type": "code",
   "metadata": {},
   "source": [
    "#trainer.test(model = classifier, dataloaders=test_loader)"
   ],
   "outputs": [],
   "execution_count": null
  },
  {
   "cell_type": "code",
   "metadata": {},
   "source": [
    "%reload_ext tensorboard\n",
    "%tensorboard --logdir=lightning_logs/"
   ],
   "outputs": [],
   "execution_count": null
  }
 ],
 "metadata": {
  "kernelspec": {
   "display_name": "ptlightning",
   "language": "python",
   "name": "python3"
  },
  "language_info": {
   "codemirror_mode": {
    "name": "ipython",
    "version": 3
   },
   "file_extension": ".py",
   "mimetype": "text/x-python",
   "name": "python",
   "nbconvert_exporter": "python",
   "pygments_lexer": "ipython3",
   "version": "3.11.5"
  }
 },
 "nbformat": 4,
 "nbformat_minor": 2
}
