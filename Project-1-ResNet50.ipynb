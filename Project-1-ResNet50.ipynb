{
 "cells": [
  {
   "cell_type": "code",
   "execution_count": null,
   "metadata": {
    "ExecuteTime": {
     "end_time": "2024-05-14T09:04:32.110177Z",
     "start_time": "2024-05-14T09:04:32.105285Z"
    }
   },
   "outputs": [],
   "source": [
    "import torch\n",
    "import torch.nn as nn\n",
    "import matplotlib.pyplot as plt\n",
    "from torchvision.utils import make_grid \n",
    "from torchvision.models import resnet50, ResNet50_Weights, vgg19, VGG19_Weights\n",
    "import lightning as L\n",
    "from lightning.pytorch.callbacks.early_stopping import EarlyStopping\n",
    "from lightning.pytorch.loggers import TensorBoardLogger\n",
    "import numpy as np\n",
    "import utils\n",
    "from models import Classificator"
   ]
  },
  {
   "cell_type": "markdown",
   "metadata": {},
   "source": [
    "## Hyperparameters"
   ]
  },
  {
   "cell_type": "code",
   "execution_count": null,
   "metadata": {
    "ExecuteTime": {
     "end_time": "2024-05-14T09:04:32.141611Z",
     "start_time": "2024-05-14T09:04:32.137590Z"
    }
   },
   "outputs": [],
   "source": [
    "#Dataloader params\n",
    "BATCH_SIZE = 32\n",
    "NUM_WORKERS = 1 # 7 because that what it suggested in a warning message\n",
    "PERSISTENT_WORKERS = True # Suggested to do this in a warning message for faster init\n",
    "USE_AUGMENT = False\n",
    "CUSTOM_TRAIN_VAL_SPLIT = True\n",
    "DATA_DIR = \"chest_xray\" # Change this to chest_xray folder\n",
    "USE_SAMPLER = False\n",
    "SHOW_ANALYTICS = False\n",
    "\n",
    "# Lightning moduls params\n",
    "LEARNING_RATE = 1e-3\n",
    "CLASS_NUM = 2\n",
    "EPOCHS = 100\n",
    "CLASS_LABELS = [\"Normal\", \"Pneumonia\"]\n",
    "NUM_CLASSES = 2\n",
    "SIGMOID_OUT = False \n",
    "\n",
    "MODEL_TO_USE = \"vgg19\" #Can either be \"resnet50\" or \"vgg19\"\n",
    "\n",
    "config = {\n",
    "    \"lr\": LEARNING_RATE,\n",
    "    \"loss\": \"CrossEntropyLoss\"\n",
    "}\n",
    "\n"
   ]
  },
  {
   "cell_type": "markdown",
   "metadata": {},
   "source": [
    "## Load data"
   ]
  },
  {
   "cell_type": "code",
   "execution_count": null,
   "metadata": {
    "ExecuteTime": {
     "end_time": "2024-05-14T09:04:32.187341Z",
     "start_time": "2024-05-14T09:04:32.149209Z"
    }
   },
   "outputs": [],
   "source": [
    "train_loader, val_loader, test_loader = utils.loadData(\n",
    "    batchSize=BATCH_SIZE,\n",
    "    numWorkers=NUM_WORKERS,\n",
    "    dataDir=DATA_DIR,\n",
    "    customSplit=CUSTOM_TRAIN_VAL_SPLIT,\n",
    "    useAugment=USE_AUGMENT,\n",
    "    useSampler=USE_SAMPLER,\n",
    "    showAnalytics=SHOW_ANALYTICS\n",
    ")"
   ]
  },
  {
   "cell_type": "markdown",
   "metadata": {},
   "source": [
    "## Plot some example images"
   ]
  },
  {
   "cell_type": "code",
   "execution_count": null,
   "metadata": {
    "ExecuteTime": {
     "end_time": "2024-05-14T09:04:33.535863Z",
     "start_time": "2024-05-14T09:04:32.189811Z"
    }
   },
   "outputs": [],
   "source": [
    "examples = next(iter(train_loader))\n",
    "images, labels = examples\n",
    "grid = make_grid(images[:9], nrow=3)\n",
    "plt.imshow(grid.permute(1, 2, 0))\n",
    "print(labels[:9].reshape(3,3))"
   ]
  },
  {
   "cell_type": "markdown",
   "metadata": {},
   "source": [
    "## Load model"
   ]
  },
  {
   "cell_type": "code",
   "execution_count": null,
   "metadata": {
    "ExecuteTime": {
     "end_time": "2024-05-14T09:04:34.085953Z",
     "start_time": "2024-05-14T09:04:33.539360Z"
    }
   },
   "outputs": [],
   "source": [
    "if MODEL_TO_USE == \"resnet50\":\n",
    "    model = resnet50(weights=ResNet50_Weights.DEFAULT)\n",
    "    if SIGMOID_OUT:\n",
    "        model.fc = nn.Sequential(\n",
    "            torch.nn.Linear(\n",
    "            in_features=2048,\n",
    "            out_features=NUM_CLASSES,\n",
    "            bias=True\n",
    "            ), \n",
    "            nn.Sigmoid()\n",
    "        )\n",
    "    else:\n",
    "        model.fc = torch.nn.Linear(\n",
    "            in_features=2048,\n",
    "            out_features=NUM_CLASSES,\n",
    "            bias=True\n",
    "        )\n",
    "    #Freeze all layers except fc\n",
    "    for name, param in model.named_parameters():\n",
    "        if \"fc.weight\" in name or \"fc.bias\" in name:\n",
    "            param.requires_grad = True\n",
    "        else:\n",
    "            param.requires_grad = False\n",
    "\n",
    "    if SIGMOID_OUT:\n",
    "        for param in model.fc.parameters():\n",
    "            param.requires_grad = True\n",
    "\n",
    "elif MODEL_TO_USE == \"vgg19\":\n",
    "    model = vgg19(weights=VGG19_Weights.DEFAULT)\n",
    "    #Freeze everything\n",
    "    for param in model.parameters():\n",
    "        param.requires_grad = False\n",
    "    #Unfreeze fc2\n",
    "    for param in model.classifier[3].parameters():\n",
    "        param.requires_grad = True\n",
    "    model.classifier[6] = nn.Linear(4096, NUM_CLASSES)\n",
    "    for param in model.classifier[6].parameters():\n",
    "        param.requires_grad = True"
   ]
  },
  {
   "cell_type": "markdown",
   "metadata": {},
   "source": [
    "## Run training and validation loops"
   ]
  },
  {
   "cell_type": "code",
   "execution_count": null,
   "metadata": {
    "ExecuteTime": {
     "start_time": "2024-05-14T09:04:34.106374Z"
    },
    "jupyter": {
     "is_executing": true
    }
   },
   "outputs": [],
   "source": [
    "classifier = Classificator(model, CLASS_LABELS, config, NUM_CLASSES)\n",
    "early_stop_callback = EarlyStopping(monitor=\"Validation loss\", min_delta=1e-6, patience=10)\n",
    "checkpoint = L.pytorch.callbacks.ModelCheckpoint(dirpath=\"pneumonia_model/ResNet/\")\n",
    "callbacks = [early_stop_callback, checkpoint]\n",
    "logger = TensorBoardLogger(\"lightning_logs\",\n",
    "                           name=f\"resnet/augment{USE_AUGMENT}_sigmoid{SIGMOID_OUT}_{MODEL_TO_USE}\",\n",
    "                           )\n",
    "\n",
    "trainer = L.Trainer(\n",
    "    accelerator=\"auto\",\n",
    "    devices=1,\n",
    "    logger=logger,\n",
    "    max_epochs=EPOCHS,\n",
    "    reload_dataloaders_every_n_epochs=3,\n",
    "    callbacks=callbacks\n",
    ")\n",
    "trainer.fit(\n",
    "    model = classifier,\n",
    "    train_dataloaders = train_loader, \n",
    "    val_dataloaders = val_loader\n",
    ")"
   ]
  },
  {
   "cell_type": "markdown",
   "metadata": {},
   "source": [
    "## Test model\n",
    "Only implemented and tested but should not use until final model is decided"
   ]
  },
  {
   "cell_type": "code",
   "execution_count": null,
   "metadata": {
    "jupyter": {
     "is_executing": true
    }
   },
   "outputs": [],
   "source": [
    "trainer.test(model = classifier, dataloaders=test_loader, ckpt_path=\"best\")"
   ]
  },
  {
   "cell_type": "code",
   "execution_count": null,
   "metadata": {
    "jupyter": {
     "is_executing": true
    }
   },
   "outputs": [],
   "source": [
    "%reload_ext tensorboard\n",
    "%tensorboard --logdir=lightning_logs/"
   ]
  }
 ],
 "metadata": {
  "kernelspec": {
   "display_name": "ptlightning",
   "language": "python",
   "name": "python3"
  },
  "language_info": {
   "codemirror_mode": {
    "name": "ipython",
    "version": 3
   },
   "file_extension": ".py",
   "mimetype": "text/x-python",
   "name": "python",
   "nbconvert_exporter": "python",
   "pygments_lexer": "ipython3",
   "version": "3.11.5"
  }
 },
 "nbformat": 4,
 "nbformat_minor": 2
}
