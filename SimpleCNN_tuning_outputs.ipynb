{
 "cells": [
  {
   "cell_type": "code",
   "metadata": {},
   "source": [
    "# torch related imports\n",
    "import torch\n",
    "from lightning.pytorch.loggers import TensorBoardLogger\n",
    "\n",
    "# imports for hyperparam tuning with Ray\n",
    "from ray import tune\n",
    "from ray.train.torch import TorchTrainer\n",
    "from ray.train import RunConfig, ScalingConfig, CheckpointConfig\n",
    "\n",
    "# Lightning\n",
    "import lightning as L\n",
    "\n",
    "from utils import loadData, plotExamples, set_reproducibility\n",
    "from models import train_func, tuning, ConvNet, Classificator"
   ],
   "outputs": [],
   "execution_count": null
  },
  {
   "cell_type": "markdown",
   "metadata": {},
   "source": [
    "## Hyperparameters"
   ]
  },
  {
   "cell_type": "code",
   "metadata": {},
   "source": [
    "#Dataloader params\n",
    "NUM_WORKERS = 7 # 7 because that what it suggested in a warning message\n",
    "PERSISTENT_WORKERS = True # Suggested to do this in a warning message for faster init\n",
    "USE_AUGMENT = False  # mutual exclusive with CUSTOM_TRAIN_VAL_SPLIT\n",
    "CUSTOM_TRAIN_VAL_SPLIT = True  # mutual exclusive with USE_AUGMENT\n",
    "PROJECT_DATA_DIR = \"/Project\" # Change this to chest_xray folder\n",
    "DATA_SET_DIR = PROJECT_DATA_DIR + \"/chest_xray\" # Change this to chest_xray folder\n",
    "LIGHTNING_LOGS_DIR = PROJECT_DATA_DIR + \"/lightning_logs\"\n",
    "USE_SAMPLER = False\n",
    "SHOW_ANALYTICS = False\n",
    "\n",
    "# Lightning moduls params\n",
    "EPOCHS = 50\n",
    "CLASS_LABELS = [\"Normal\", \"Pneumonia\"]\n",
    "NUM_CLASSES = 2\n",
    "\n",
    "# Tuning params\n",
    "NUM_SAMPLES = 20 # Number of sampls from parameter space\n",
    "\n",
    "search_space = {\n",
    "    \"reproducibility_active\": True,\n",
    "    \"epochs\": EPOCHS,\n",
    "    #\"seed\": tune.randint(0, 10000),\n",
    "    \"lr\": tune.loguniform(1e-4, 1e-1),\n",
    "    \"batch_size\": tune.choice([16,32, 64]),\n",
    "    \"loss\" : tune.choice([\"BCEwLogits\", \"CrossEntropyLoss\"]),\n",
    "    \"dropout\": tune.choice([0.2, 0.5, 0.8]), # https://www.ncbi.nlm.nih.gov/pmc/articles/PMC10518240/pdf/cureus-0015-00000044130.pdf\n",
    "    \"project_data_dir\": PROJECT_DATA_DIR,\n",
    "    \"data_set_dir\": DATA_SET_DIR,\n",
    "    \"lightning_logs\": LIGHTNING_LOGS_DIR,\n",
    "}"
   ],
   "outputs": [],
   "execution_count": null
  },
  {
   "cell_type": "markdown",
   "metadata": {},
   "source": [
    "## Ensuring reporducibility"
   ]
  },
  {
   "cell_type": "code",
   "metadata": {},
   "source": [
    "# Setting the seed\n",
    "set_reproducibility(42)\n",
    "\n",
    "# Ensure that all operations are deterministic on GPU (if used) for reproducibility\n",
    "torch.backends.cudnn.deterministic = True\n",
    "torch.backends.cudnn.benchmark = False"
   ],
   "outputs": [],
   "execution_count": null
  },
  {
   "cell_type": "markdown",
   "metadata": {},
   "source": [
    "## Load Data and show Analytics"
   ]
  },
  {
   "cell_type": "code",
   "metadata": {},
   "source": [
    "# show analytics\n",
    "train_loader, val_loader, test_loader = loadData(numWorkers=NUM_WORKERS, showAnalytics = True, batchSize = 32)"
   ],
   "outputs": [],
   "execution_count": null
  },
  {
   "cell_type": "code",
   "metadata": {},
   "source": [
    "plotExamples(train_loader)"
   ],
   "outputs": [],
   "execution_count": null
  },
  {
   "cell_type": "markdown",
   "metadata": {},
   "source": [
    "## Hyperparameter Tuning with Ray Tune"
   ]
  },
  {
   "cell_type": "code",
   "metadata": {},
   "source": [
    "# setting scaling and run config\n",
    "scaling_config = ScalingConfig(\n",
    "    num_workers=1, use_gpu=True\n",
    ")\n",
    "\n",
    "run_config = RunConfig(\n",
    "    checkpoint_config=CheckpointConfig(\n",
    "        num_to_keep=2,\n",
    "        checkpoint_score_attribute=\"val_BinaryAccuracy\",\n",
    "        checkpoint_score_order=\"max\",\n",
    "    ),\n",
    ")"
   ],
   "outputs": [],
   "execution_count": null
  },
  {
   "cell_type": "code",
   "metadata": {},
   "source": [
    "# Define a TorchTrainer without hyper-parameters for Tuner\n",
    "ray_trainer = TorchTrainer(\n",
    "    train_func,\n",
    "    scaling_config=scaling_config,\n",
    "    run_config=run_config,\n",
    ")"
   ],
   "outputs": [],
   "execution_count": null
  },
  {
   "cell_type": "code",
   "metadata": {},
   "source": [
    "results = tuning(ray_trainer, search_space, num_samples=NUM_SAMPLES, num_epochs=EPOCHS)"
   ],
   "outputs": [],
   "execution_count": null
  },
  {
   "cell_type": "code",
   "metadata": {},
   "source": [
    "best_result = results.get_best_result(metric=\"val_BinaryAccuracy\", mode=\"max\")\n",
    "best_config = best_result.config  # Get best trial's hyperparameters\n",
    "print(best_config)\n",
    "#best_logdir = best_result.path  # Get best trial's result directory\n",
    "#best_checkpoint = best_result.checkpoint  # Get best trial's best checkpoint\n",
    "best_metrics = best_result.metrics  # Get best trial's last results\n",
    "print(best_metrics)\n",
    "best_result_df = best_result.metrics_dataframe  # Get best result as pandas dataframe"
   ],
   "outputs": [],
   "execution_count": null
  },
  {
   "cell_type": "code",
   "metadata": {},
   "source": [
    "print(best_config['train_loop_config'])"
   ],
   "outputs": [],
   "execution_count": null
  },
  {
   "cell_type": "markdown",
   "metadata": {},
   "source": [
    "## Running a CNN with the best found hyperparams"
   ]
  },
  {
   "cell_type": "code",
   "metadata": {},
   "source": [
    "set_reproducibility(42)"
   ],
   "outputs": [],
   "execution_count": null
  },
  {
   "cell_type": "code",
   "metadata": {},
   "source": [
    "#best_config = {'train_loop_config': {'reproducibility_active': True, 'epochs': 50, 'lr': 0.00035213424594870914, 'batch_size': 32, 'loss': 'CrossEntropyLoss', 'dropout': 0.5}}"
   ],
   "outputs": [],
   "execution_count": null
  },
  {
   "cell_type": "code",
   "metadata": {},
   "source": "train_loader, val_loader, test_loader = loadData(dataDir=DATA_SET_DIR, numWorkers=7, batchSize=best_config['train_loop_config'][\"batch_size\"])",
   "outputs": [],
   "execution_count": null
  },
  {
   "cell_type": "code",
   "metadata": {},
   "source": [
    "early_stopping = L.pytorch.callbacks.EarlyStopping(monitor='Validation loss', patience=10, min_delta=1e-6)\n",
    "checkpoint = L.pytorch.callbacks.ModelCheckpoint(dirpath=PROJECT_DATA_DIR + '/pneumonia_model/', monitor=\"val_BinaryAccuracy\", mode='max')\n",
    "callbacks = [early_stopping, checkpoint]\n",
    "logger = TensorBoardLogger(LIGHTNING_LOGS_DIR,\n",
    "                           name=f\"simpleCNN/{'augment' if USE_AUGMENT else 'original'}\",\n",
    "                           )"
   ],
   "outputs": [],
   "execution_count": null
  },
  {
   "cell_type": "code",
   "metadata": {},
   "source": [
    "trainer = L.Trainer(\n",
    "    accelerator = 'auto',\n",
    "    devices=1,\n",
    "    logger=logger,\n",
    "    max_epochs=EPOCHS, \n",
    "    callbacks=callbacks)"
   ],
   "outputs": [],
   "execution_count": null
  },
  {
   "cell_type": "code",
   "metadata": {},
   "source": [
    "cnn = ConvNet(num_classes=NUM_CLASSES, dropout=best_config['train_loop_config']['dropout'])\n",
    "classifier = Classificator(cnn, CLASS_LABELS, best_config['train_loop_config'], NUM_CLASSES)\n",
    "torch.set_float32_matmul_precision('medium')\n",
    "trainer.fit(classifier,train_dataloaders=train_loader,val_dataloaders=val_loader)"
   ],
   "outputs": [],
   "execution_count": null
  },
  {
   "cell_type": "markdown",
   "metadata": {},
   "source": [
    "## Testing final Model"
   ]
  },
  {
   "cell_type": "code",
   "metadata": {},
   "source": "trainer.test(model = classifier, dataloaders=test_loader)",
   "outputs": [],
   "execution_count": null
  },
  {
   "cell_type": "code",
   "metadata": {},
   "source": [],
   "outputs": [],
   "execution_count": null
  }
 ],
 "metadata": {
  "kernelspec": {
   "display_name": "Python 3 (ipykernel)",
   "language": "python",
   "name": "python3"
  },
  "language_info": {
   "codemirror_mode": {
    "name": "ipython",
    "version": 3
   },
   "file_extension": ".py",
   "mimetype": "text/x-python",
   "name": "python",
   "nbconvert_exporter": "python",
   "pygments_lexer": "ipython3",
   "version": "3.11.0rc1"
  }
 },
 "nbformat": 4,
 "nbformat_minor": 4
}
